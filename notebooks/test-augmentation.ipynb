{
 "cells": [
  {
   "cell_type": "code",
   "execution_count": 44,
   "metadata": {},
   "outputs": [],
   "source": [
    "import pandas as pd\n",
    "import numpy as np\n",
    "import random"
   ]
  },
  {
   "cell_type": "code",
   "execution_count": 45,
   "metadata": {},
   "outputs": [],
   "source": [
    "df = pd.read_csv('../dataset/train.csv')\n",
    "\n",
    "path_template = '../dataset/embeddings/{track_idx}.npy'\n",
    "\n",
    "NUM_TAGS = 256"
   ]
  },
  {
   "cell_type": "code",
   "execution_count": 46,
   "metadata": {},
   "outputs": [],
   "source": [
    "def get_sample(idx):\n",
    "    row = df.iloc[idx]\n",
    "    track_idx = row.track\n",
    "\n",
    "    embeds = np.load(path_template.format(track_idx=track_idx))\n",
    "    \n",
    "    tags = [int(x) for x in row.tags.split(',')]\n",
    "    target = np.zeros(NUM_TAGS)\n",
    "    target[tags] = 1\n",
    "\n",
    "    return track_idx, embeds, target"
   ]
  },
  {
   "cell_type": "code",
   "execution_count": 47,
   "metadata": {},
   "outputs": [],
   "source": [
    "idx = 3\n",
    "    \n",
    "track_idx, embeds, target = get_sample(idx)\n",
    "\n",
    "track_idx, embeds, target = [track_idx], [embeds], [target]\n",
    "for i in range(random.randint(1, 4)):\n",
    "    add_track_idx, add_embeds, add_target = get_sample(i)\n",
    "    track_idx.append(add_track_idx)\n",
    "    embeds.append(add_embeds)\n",
    "    target.append(add_target)"
   ]
  },
  {
   "cell_type": "code",
   "execution_count": 48,
   "metadata": {},
   "outputs": [],
   "source": [
    "embeds = np.concatenate(embeds, axis=0)\n",
    "\n",
    "result_target = np.zeros_like(target[0])\n",
    "for target_item in target:\n",
    "    result_target = np.logical_or(result_target, target_item).astype(float)\n",
    "target = result_target"
   ]
  },
  {
   "cell_type": "code",
   "execution_count": 49,
   "metadata": {},
   "outputs": [
    {
     "data": {
      "text/plain": [
       "(181, 768)"
      ]
     },
     "execution_count": 49,
     "metadata": {},
     "output_type": "execute_result"
    }
   ],
   "source": [
    "embeds.shape"
   ]
  },
  {
   "cell_type": "code",
   "execution_count": 58,
   "metadata": {},
   "outputs": [
    {
     "name": "stdout",
     "output_type": "stream",
     "text": [
      "1\n"
     ]
    },
    {
     "data": {
      "text/plain": [
       "(180, 768)"
      ]
     },
     "execution_count": 58,
     "metadata": {},
     "output_type": "execute_result"
    }
   ],
   "source": [
    "n_deletes = random.randint(1, 4)\n",
    "print(n_deletes)\n",
    "random_indexes = np.random.choice(embeds.shape[0], size=n_deletes, replace=False)\n",
    "np.delete(embeds, random_indexes, axis=0).shape"
   ]
  },
  {
   "cell_type": "code",
   "execution_count": null,
   "metadata": {},
   "outputs": [],
   "source": []
  }
 ],
 "metadata": {
  "kernelspec": {
   "display_name": ".venv",
   "language": "python",
   "name": "python3"
  },
  "language_info": {
   "codemirror_mode": {
    "name": "ipython",
    "version": 3
   },
   "file_extension": ".py",
   "mimetype": "text/x-python",
   "name": "python",
   "nbconvert_exporter": "python",
   "pygments_lexer": "ipython3",
   "version": "3.8.10"
  }
 },
 "nbformat": 4,
 "nbformat_minor": 2
}
