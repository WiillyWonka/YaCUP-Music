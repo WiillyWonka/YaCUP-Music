{
 "cells": [
  {
   "cell_type": "code",
   "execution_count": 44,
   "metadata": {},
   "outputs": [],
   "source": [
    "import pandas as pd\n",
    "import numpy as np\n",
    "import random"
   ]
  },
  {
   "cell_type": "code",
   "execution_count": 45,
   "metadata": {},
   "outputs": [],
   "source": [
    "df = pd.read_csv('../dataset/train.csv')\n",
    "\n",
    "path_template = '../dataset/embeddings/{track_idx}.npy'\n",
    "\n",
    "NUM_TAGS = 256"
   ]
  },
  {
   "cell_type": "code",
   "execution_count": 46,
   "metadata": {},
   "outputs": [],
   "source": [
    "def get_sample(idx):\n",
    "    row = df.iloc[idx]\n",
    "    track_idx = row.track\n",
    "\n",
    "    embeds = np.load(path_template.format(track_idx=track_idx))\n",
    "    \n",
    "    tags = [int(x) for x in row.tags.split(',')]\n",
    "    target = np.zeros(NUM_TAGS)\n",
    "    target[tags] = 1\n",
    "\n",
    "    return track_idx, embeds, target"
   ]
  },
  {
   "cell_type": "code",
   "execution_count": 47,
   "metadata": {},
   "outputs": [],
   "source": [
    "idx = 3\n",
    "    \n",
    "track_idx, embeds, target = get_sample(idx)\n",
    "\n",
    "track_idx, embeds, target = [track_idx], [embeds], [target]\n",
    "for i in range(random.randint(1, 4)):\n",
    "    add_track_idx, add_embeds, add_target = get_sample(i)\n",
    "    track_idx.append(add_track_idx)\n",
    "    embeds.append(add_embeds)\n",
    "    target.append(add_target)"
   ]
  },
  {
   "cell_type": "code",
   "execution_count": 48,
   "metadata": {},
   "outputs": [],
   "source": [
    "embeds = np.concatenate(embeds, axis=0)\n",
    "\n",
    "result_target = np.zeros_like(target[0])\n",
    "for target_item in target:\n",
    "    result_target = np.logical_or(result_target, target_item).astype(float)\n",
    "target = result_target"
   ]
  },
  {
   "cell_type": "code",
   "execution_count": 49,
   "metadata": {},
   "outputs": [
    {
     "data": {
      "text/plain": [
       "(181, 768)"
      ]
     },
     "execution_count": 49,
     "metadata": {},
     "output_type": "execute_result"
    }
   ],
   "source": [
    "embeds.shape"
   ]
  },
  {
   "cell_type": "code",
   "execution_count": 52,
   "metadata": {},
   "outputs": [
    {
     "ename": "TypeError",
     "evalue": "object of type 'int' has no len()",
     "output_type": "error",
     "traceback": [
      "\u001b[0;31m---------------------------------------------------------------------------\u001b[0m",
      "\u001b[0;31mTypeError\u001b[0m                                 Traceback (most recent call last)",
      "\u001b[1;32m/home/ktuser/projects/YaCUP/YaCUP-Music/notebooks/test-augmentation.ipynb Cell 7\u001b[0m line \u001b[0;36m2\n\u001b[1;32m      <a href='vscode-notebook-cell:/home/ktuser/projects/YaCUP/YaCUP-Music/notebooks/test-augmentation.ipynb#X16sZmlsZQ%3D%3D?line=0'>1</a>\u001b[0m n_deletes \u001b[39m=\u001b[39m random\u001b[39m.\u001b[39mrandint(\u001b[39m1\u001b[39m, \u001b[39m4\u001b[39m)\n\u001b[0;32m----> <a href='vscode-notebook-cell:/home/ktuser/projects/YaCUP/YaCUP-Music/notebooks/test-augmentation.ipynb#X16sZmlsZQ%3D%3D?line=1'>2</a>\u001b[0m random_indexes \u001b[39m=\u001b[39m np\u001b[39m.\u001b[39mrandom\u001b[39m.\u001b[39mchoice(\u001b[39mlen\u001b[39;49m(embeds\u001b[39m.\u001b[39;49mshape[\u001b[39m0\u001b[39;49m]), size\u001b[39m=\u001b[39m\u001b[39m2\u001b[39m, replace\u001b[39m=\u001b[39m\u001b[39mFalse\u001b[39;00m)\n\u001b[1;32m      <a href='vscode-notebook-cell:/home/ktuser/projects/YaCUP/YaCUP-Music/notebooks/test-augmentation.ipynb#X16sZmlsZQ%3D%3D?line=2'>3</a>\u001b[0m np\u001b[39m.\u001b[39mdelete(embeds, random_indexes)\u001b[39m.\u001b[39mshape\n",
      "\u001b[0;31mTypeError\u001b[0m: object of type 'int' has no len()"
     ]
    }
   ],
   "source": [
    "n_deletes = random.randint(1, 4)\n",
    "print(n_deletes)\n",
    "random_indexes = np.random.choice(embeds.shape[0], size=n_deletes, replace=False)\n",
    "np.delete(embeds, random_indexes).shape"
   ]
  },
  {
   "cell_type": "code",
   "execution_count": 50,
   "metadata": {},
   "outputs": [
    {
     "name": "stdout",
     "output_type": "stream",
     "text": [
      "[1 4 5]\n"
     ]
    }
   ],
   "source": [
    "arr = np.array([1, 2, 3, 4, 5])\n",
    "random_indexes = np.random.choice(len(arr), size=2, replace=False)\n",
    "new_arr = np.delete(arr, random_indexes)\n",
    "print(new_arr)"
   ]
  },
  {
   "cell_type": "code",
   "execution_count": 51,
   "metadata": {},
   "outputs": [
    {
     "data": {
      "text/plain": [
       "array([1, 2])"
      ]
     },
     "execution_count": 51,
     "metadata": {},
     "output_type": "execute_result"
    }
   ],
   "source": [
    "random_indexes"
   ]
  },
  {
   "cell_type": "code",
   "execution_count": null,
   "metadata": {},
   "outputs": [],
   "source": []
  }
 ],
 "metadata": {
  "kernelspec": {
   "display_name": ".venv",
   "language": "python",
   "name": "python3"
  },
  "language_info": {
   "codemirror_mode": {
    "name": "ipython",
    "version": 3
   },
   "file_extension": ".py",
   "mimetype": "text/x-python",
   "name": "python",
   "nbconvert_exporter": "python",
   "pygments_lexer": "ipython3",
   "version": "3.8.10"
  }
 },
 "nbformat": 4,
 "nbformat_minor": 2
}
